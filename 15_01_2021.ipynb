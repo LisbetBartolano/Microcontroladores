{
  "nbformat": 4,
  "nbformat_minor": 0,
  "metadata": {
    "colab": {
      "name": "15_01_2021.ipynb",
      "provenance": [],
      "collapsed_sections": [],
      "include_colab_link": true
    },
    "kernelspec": {
      "name": "python3",
      "display_name": "Python 3"
    }
  },
  "cells": [
    {
      "cell_type": "markdown",
      "metadata": {
        "id": "view-in-github",
        "colab_type": "text"
      },
      "source": [
        "<a href=\"https://colab.research.google.com/github/LisbetBartolano/Microcontroladores/blob/main/15_01_2021.ipynb\" target=\"_parent\"><img src=\"https://colab.research.google.com/assets/colab-badge.svg\" alt=\"Open In Colab\"/></a>"
      ]
    },
    {
      "cell_type": "code",
      "metadata": {
        "colab": {
          "base_uri": "https://localhost:8080/"
        },
        "id": "pU3qH61YF1x6",
        "outputId": "6f2d61da-4239-49f0-a0c5-a6af32d6aa4f"
      },
      "source": [
        "\"\"\"\r\n",
        "Python y las variables\r\n",
        "\"\"\"\r\n",
        "\r\n",
        "texto=\"hola\" #tipo string\r\n",
        "enteros=5\r\n",
        "flotantes=0.0001\r\n",
        "booleanos=True\r\n",
        "lista=[10,20,30,40]\r\n",
        "tupla=[\"abeja\",\"hormiga\"]\r\n",
        "dicci={\"Nombre\":\"Lisbet\",\r\n",
        "       \"Edad\":21,\r\n",
        "       \"Signo\":\"Acuario\"}\r\n",
        "nada=None\r\n",
        "rango=range(5,9)\r\n",
        "byte=b\"hello\"\r\n",
        "print(type(texto),type(enteros), type(flotantes), type(booleanos), type(lista),type(tupla),type(dicci))"
      ],
      "execution_count": null,
      "outputs": [
        {
          "output_type": "stream",
          "text": [
            "<class 'str'> <class 'int'> <class 'float'> <class 'bool'> <class 'list'> <class 'list'> <class 'dict'>\n"
          ],
          "name": "stdout"
        }
      ]
    },
    {
      "cell_type": "code",
      "metadata": {
        "colab": {
          "base_uri": "https://localhost:8080/"
        },
        "id": "JT1RQXObHfno",
        "outputId": "34af6735-cf6c-4d2d-cef5-29dd7fd33512"
      },
      "source": [
        "dato=\"Lisbet\"\r\n",
        "edad=21\r\n",
        "print(f\"Mi nombre es {dato} y soy alumna de la universidad\" +\"\\n\"+ f\"y tengo {edad} años\")"
      ],
      "execution_count": null,
      "outputs": [
        {
          "output_type": "stream",
          "text": [
            "Mi nombre es Lisbet y soy alumna de la universidad\n",
            "y tengo 21 años\n"
          ],
          "name": "stdout"
        }
      ]
    },
    {
      "cell_type": "code",
      "metadata": {
        "colab": {
          "base_uri": "https://localhost:8080/"
        },
        "id": "7agSGqZvNg6J",
        "outputId": "24535b38-3cef-4545-ae41-34fd64d13e5c"
      },
      "source": [
        "\"\"\"\r\n",
        "Condicionales\r\n",
        "\"\"\"\r\n",
        "if edad > 20:\r\n",
        "  print(\"ya no eres un chamaquito\")\r\n",
        "else :\r\n",
        "    print(\"on ta bebe\")"
      ],
      "execution_count": null,
      "outputs": [
        {
          "output_type": "stream",
          "text": [
            "ya no eres un chamaquito\n"
          ],
          "name": "stdout"
        }
      ]
    },
    {
      "cell_type": "code",
      "metadata": {
        "colab": {
          "base_uri": "https://localhost:8080/"
        },
        "id": "10ICmQUBOPxr",
        "outputId": "e23c8e53-b021-43f0-f258-7a11fd8c2208"
      },
      "source": [
        "dia= int(input(\"dame un valor\\n\"))\r\n",
        "if dia==1:\r\n",
        "  print(\"lunes\")\r\n",
        "elif dia==2:\r\n",
        "  print(\"martes\")\r\n",
        "elif dia==3:\r\n",
        "  print(\"miercoles\")\r\n",
        "elif dia==4:\r\n",
        "  print(\"jueves\")\r\n",
        "elif dia==5: \r\n",
        "  print(\"viernes\")\r\n",
        "else :\r\n",
        "  print(\"Dias no laborables\")"
      ],
      "execution_count": null,
      "outputs": [
        {
          "output_type": "stream",
          "text": [
            "dame un valor\n",
            "5\n",
            "viernes\n"
          ],
          "name": "stdout"
        }
      ]
    },
    {
      "cell_type": "code",
      "metadata": {
        "colab": {
          "base_uri": "https://localhost:8080/"
        },
        "id": "BuTMbLy8PA4e",
        "outputId": "2685bce0-d7f8-4f2b-9fb0-dc429d378d79"
      },
      "source": [
        "\"\"\"\r\n",
        "Ciclos iterables\r\n",
        "\"\"\"\r\n",
        "cuenta=0\r\n",
        "suma=0\r\n",
        "cadena= {\"a\",\"b\",\"c\"}\r\n",
        "\r\n",
        "for cuenta in range(0,11):\r\n",
        "    suma = suma + cuenta\r\n",
        "print(f\"la cuenta es {cuenta} \\n\")\r\n",
        "print(f\"La suma es {suma}\")"
      ],
      "execution_count": null,
      "outputs": [
        {
          "output_type": "stream",
          "text": [
            "la cuenta es 10 \n",
            "\n",
            "La suma es 55\n"
          ],
          "name": "stdout"
        }
      ]
    },
    {
      "cell_type": "code",
      "metadata": {
        "colab": {
          "base_uri": "https://localhost:8080/"
        },
        "id": "srs5NaqEQqE4",
        "outputId": "aa17009b-74b0-4234-c7da-6d97731290a4"
      },
      "source": [
        "contador=1\r\n",
        "while contador <=20:\r\n",
        "   print(contador)\r\n",
        "   contador +=1"
      ],
      "execution_count": null,
      "outputs": [
        {
          "output_type": "stream",
          "text": [
            "1\n",
            "2\n",
            "3\n",
            "4\n",
            "5\n",
            "6\n",
            "7\n",
            "8\n",
            "9\n",
            "10\n",
            "11\n",
            "12\n",
            "13\n",
            "14\n",
            "15\n",
            "16\n",
            "17\n",
            "18\n",
            "19\n",
            "20\n"
          ],
          "name": "stdout"
        }
      ]
    },
    {
      "cell_type": "code",
      "metadata": {
        "id": "KF9dsXxwSf9o"
      },
      "source": [
        "def muestra_tu_nombre():\r\n",
        "  print(\"Me llamo Lisbet\")\r\n",
        "def contador(a):\r\n",
        "  if a == 3 :\r\n",
        "    return 0\r\n",
        "  else:\r\n",
        "    return a+1  \r\n"
      ],
      "execution_count": null,
      "outputs": []
    },
    {
      "cell_type": "code",
      "metadata": {
        "colab": {
          "base_uri": "https://localhost:8080/"
        },
        "id": "GvTuoduKSpZo",
        "outputId": "e3c64be1-993c-4219-f5f2-d9eaed3c5129"
      },
      "source": [
        "a = 0\r\n",
        "while contador(a) < 2:\r\n",
        "  a= contador(a+1)\r\n",
        "  print(a)"
      ],
      "execution_count": null,
      "outputs": [
        {
          "output_type": "stream",
          "text": [
            "2\n"
          ],
          "name": "stdout"
        }
      ]
    },
    {
      "cell_type": "code",
      "metadata": {
        "id": "nVbdtb0YUZVb"
      },
      "source": [
        "\"\"\"\r\n",
        "Calculadora sencilla\r\n",
        "\"\"\"\r\n",
        "def calculadora(n1,n2,opera=0):\r\n",
        "  s = n1 + n2\r\n",
        "  r = n1 - n2\r\n",
        "  m = n1*n2\r\n",
        "  d = n1/n2\r\n",
        "  c = \"\"\r\n",
        "  if opera == 1:\r\n",
        "    c += \"La Suma es: \" + str(s)\r\n",
        "  elif opera == 2:\r\n",
        "    c += \"La resta es \" + str(r)\r\n",
        "  elif opera == 3:\r\n",
        "    c += \"La multiplicacion es \" + str(m)\r\n",
        "  elif opera == 4:\r\n",
        "    c += \"La division es \" + str(d)\r\n",
        "  else:\r\n",
        "    c += \"La Suma es: \" + str(s)\r\n",
        "    c += \"La resta es \" + str(r)\r\n",
        "    c += \"La multiplicacion es \" + str(m)\r\n",
        "    c += \"La division es \" + str(d)\r\n",
        "  return c"
      ],
      "execution_count": null,
      "outputs": []
    },
    {
      "cell_type": "code",
      "metadata": {
        "colab": {
          "base_uri": "https://localhost:8080/"
        },
        "id": "Qk_9H__pWHJx",
        "outputId": "65f29185-6155-4ea4-a4d9-4b4eb115bd9f"
      },
      "source": [
        "v1 , v2 = int(input(\"valor 1 \")), int(input(\"valor 2 \"))\r\n",
        "print(calculadora(v1,v2,3))"
      ],
      "execution_count": null,
      "outputs": [
        {
          "output_type": "stream",
          "text": [
            "valor 1 6\n",
            "valor 2 8\n",
            "La multiplicacion es 48\n"
          ],
          "name": "stdout"
        }
      ]
    }
  ]
}