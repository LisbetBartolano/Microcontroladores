{
  "nbformat": 4,
  "nbformat_minor": 0,
  "metadata": {
    "colab": {
      "name": "18_o1_2021.ipynb",
      "provenance": [],
      "collapsed_sections": [],
      "include_colab_link": true
    },
    "kernelspec": {
      "name": "python3",
      "display_name": "Python 3"
    }
  },
  "cells": [
    {
      "cell_type": "markdown",
      "metadata": {
        "id": "view-in-github",
        "colab_type": "text"
      },
      "source": [
        "<a href=\"https://colab.research.google.com/github/LisbetBartolano/Microcontroladores/blob/main/18_o1_2021.ipynb\" target=\"_parent\"><img src=\"https://colab.research.google.com/assets/colab-badge.svg\" alt=\"Open In Colab\"/></a>"
      ]
    },
    {
      "cell_type": "code",
      "metadata": {
        "colab": {
          "base_uri": "https://localhost:8080/"
        },
        "id": "oJ6ukrPPdweh",
        "outputId": "f275c2d2-1985-4846-b688-5a47819b7118"
      },
      "source": [
        "\"\"\"\r\n",
        "Funciones predefinidas\r\n",
        "\"\"\"\r\n",
        "nombre = \"Lisbet1\"\r\n",
        "print(nombre,type(nombre))\r\n",
        "comprobar = isinstance(nombre, float)\r\n",
        "#Strip\r\n",
        "texto = \" Tus ojos azules se reflejan en mi alma \"\r\n"
      ],
      "execution_count": null,
      "outputs": [
        {
          "output_type": "stream",
          "text": [
            "Lisbet1 <class 'str'>\n"
          ],
          "name": "stdout"
        }
      ]
    },
    {
      "cell_type": "code",
      "metadata": {
        "colab": {
          "base_uri": "https://localhost:8080/"
        },
        "id": "hoZHvltjgIZI",
        "outputId": "8ca88cc0-edeb-465c-825e-b145f09d6735"
      },
      "source": [
        "print(texto)\r\n",
        "texto.strip()\r\n",
        "texto.find(\"cen\")\r\n",
        "texto_2 = texto.replace(\"alma\",\"espiritu\")\r\n",
        "print(texto_2)"
      ],
      "execution_count": null,
      "outputs": [
        {
          "output_type": "stream",
          "text": [
            " Tus ojos azules se reflejan en mi alma \n",
            " Tus ojos azules se reflejan en mi espiritu \n"
          ],
          "name": "stdout"
        }
      ]
    },
    {
      "cell_type": "code",
      "metadata": {
        "colab": {
          "base_uri": "https://localhost:8080/"
        },
        "id": "n3Esc3PsiyaC",
        "outputId": "a9361eec-e79e-42ad-f157-586260f2e5c7"
      },
      "source": [
        "\"\"\"\r\n",
        "Lista o arreglo\r\n",
        "\"\"\"\r\n",
        "a = (1,2) #tupla\r\n",
        "b = [1,2] #Lista\r\n",
        "print(f\"{a[0]} {b[0]}\")\r\n",
        "b[0] = 3\r\n",
        "print(f\"{a[0]} {b[0]}\")\r\n",
        "         # -6 -5 -4 -3 -2 -1\r\n",
        "         # 0   1  2  3  4  5\r\n",
        "nombres = [\"Ceci\",\"Lucy\",\"Arely\",\"Pausi\",\"Alejandro\",\"Coffin\"]\r\n",
        "print(nombres[-3])\r\n",
        "print(nombres[1:2])"
      ],
      "execution_count": null,
      "outputs": [
        {
          "output_type": "stream",
          "text": [
            "1 1\n",
            "1 3\n",
            "Pausi\n",
            "['Lucy']\n"
          ],
          "name": "stdout"
        }
      ]
    },
    {
      "cell_type": "code",
      "metadata": {
        "colab": {
          "base_uri": "https://localhost:8080/"
        },
        "id": "R9vUGgEHlnyG",
        "outputId": "06b193f7-f195-4c50-8b76-85a865d8f460"
      },
      "source": [
        "type(nombres[-3])\r\n",
        "nombres.append(\"Lisbet1\".)\r\n",
        "print(nombres)\r\n",
        "print(nombres[-1])"
      ],
      "execution_count": null,
      "outputs": [
        {
          "output_type": "stream",
          "text": [
            "['Ceci', 'Lucy', 'Arely', 'Pausi', 'Alejandro', 'Coffin', 'Lisbet1']\n",
            "Lisbet1\n"
          ],
          "name": "stdout"
        }
      ]
    },
    {
      "cell_type": "code",
      "metadata": {
        "colab": {
          "base_uri": "https://localhost:8080/"
        },
        "id": "LhMBgbTInCrU",
        "outputId": "68e1fb4e-60cd-4933-ed2c-fd853f48c3c9"
      },
      "source": [
        "#Corrimiento de lista\r\n",
        "v=0\r\n",
        "for i in nombres[2:4]:\r\n",
        "  print(f\" \\n{i} indice {nombres.index(i)}\")\r\n",
        "  v +=1"
      ],
      "execution_count": null,
      "outputs": [
        {
          "output_type": "stream",
          "text": [
            " \n",
            "Arely indice 2\n",
            " \n",
            "Pausi indice 3\n"
          ],
          "name": "stdout"
        }
      ]
    },
    {
      "cell_type": "code",
      "metadata": {
        "colab": {
          "base_uri": "https://localhost:8080/"
        },
        "id": "URRoeszspJqR",
        "outputId": "e8bc6daf-10aa-4733-c3a6-0a97a0421875"
      },
      "source": [
        "#Listas Multidimensionales, listas dentro de otras listas\r\n",
        "personas = [\r\n",
        "            [\"Valeria\",22],\r\n",
        "            [\"Marcela\",23]\r\n",
        "            ]\r\n",
        "type(personas[1][0])\r\n",
        "print(personas[1][0])"
      ],
      "execution_count": null,
      "outputs": [
        {
          "output_type": "stream",
          "text": [
            "Marcela\n"
          ],
          "name": "stdout"
        }
      ]
    },
    {
      "cell_type": "code",
      "metadata": {
        "colab": {
          "base_uri": "https://localhost:8080/"
        },
        "id": "ri3sHtW3qfRv",
        "outputId": "e5788461-3f58-4867-b3ba-588dbac7963f"
      },
      "source": [
        "for i in personas:\r\n",
        "  print(i)\r\n",
        "for i in personas:\r\n",
        "  for j in i:\r\n",
        "    if i.index(j) == 0:\r\n",
        "      print(f\"El nombre de la alumna es {j}\")\r\n",
        "    else :\r\n",
        "      print(f\"la edad de la alumna es : {j}\")\r\n"
      ],
      "execution_count": null,
      "outputs": [
        {
          "output_type": "stream",
          "text": [
            "['Valeria', 22]\n",
            "['Marcela', 23]\n",
            "El nombre de la alumna es Valeria\n",
            "la edad de la alumna es : 22\n",
            "El nombre de la alumna es Marcela\n",
            "la edad de la alumna es : 23\n"
          ],
          "name": "stdout"
        }
      ]
    },
    {
      "cell_type": "code",
      "metadata": {
        "colab": {
          "base_uri": "https://localhost:8080/"
        },
        "id": "t-MjRyqEtHy0",
        "outputId": "0350ca91-583c-49e6-9140-6c76619929b5"
      },
      "source": [
        "\"\"\"\r\n",
        "Funciones y retornos para las listas\r\n",
        "\"\"\"\r\n",
        "numeros = [1, 4, 23, 5, 5, 1, 0]\r\n",
        "print(numeros)\r\n",
        "numeros.sort()\r\n",
        "print(numeros)\r\n",
        "numeros.insert(2, -4)\r\n",
        "print(numeros)\r\n",
        "numeros. remove(-4)\r\n",
        "print(numeros)"
      ],
      "execution_count": null,
      "outputs": [
        {
          "output_type": "stream",
          "text": [
            "[1, 4, 23, 5, 5, 1, 0]\n",
            "[0, 1, 1, 4, 5, 5, 23]\n",
            "[0, 1, -4, 1, 4, 5, 5, 23]\n",
            "[0, 1, 1, 4, 5, 5, 23]\n"
          ],
          "name": "stdout"
        }
      ]
    },
    {
      "cell_type": "code",
      "metadata": {
        "colab": {
          "base_uri": "https://localhost:8080/"
        },
        "id": "ILrados9umjj",
        "outputId": "80388559-aabe-451c-d8dd-d04501bd08db"
      },
      "source": [
        "\"\"\"\r\n",
        "Diccionarios, almacenan un conjunto de datos, similares a las listas pero su indice es alfanumerico\r\n",
        "\"\"\"\r\n",
        "persona_1 = {\"Nombre\":\"Lisbet\",\r\n",
        "           \"edad\":21,\r\n",
        "           \"signo\":\"Acuario\"\r\n",
        "           }\r\n",
        "persona_2 = {\"Nombre\":\"Alexis\",\r\n",
        "           \"edad\":23,\r\n",
        "           \"signo\":\"Toro\"\r\n",
        "           }           \r\n",
        "personajes = [persona_1, persona_2]   \r\n",
        "print(personajes[0][\"edad\"])       \r\n"
      ],
      "execution_count": null,
      "outputs": [
        {
          "output_type": "stream",
          "text": [
            "21\n"
          ],
          "name": "stdout"
        }
      ]
    },
    {
      "cell_type": "code",
      "metadata": {
        "colab": {
          "base_uri": "https://localhost:8080/"
        },
        "id": "pMY8nv5iwltm",
        "outputId": "ed07493c-85d4-420e-b17c-22fbf381480c"
      },
      "source": [
        "for indice in personajes:\r\n",
        "  print(f\"el nombre del alumno es: {indice['Nombre']} y tiene {indice['edad']} años\")"
      ],
      "execution_count": null,
      "outputs": [
        {
          "output_type": "stream",
          "text": [
            "el nombre del alumno es: Lisbet y tiene 21 años\n",
            "el nombre del alumno es: Alexis y tiene 23 años\n"
          ],
          "name": "stdout"
        }
      ]
    },
    {
      "cell_type": "code",
      "metadata": {
        "id": "PYqT-458x2pe",
        "colab": {
          "base_uri": "https://localhost:8080/",
          "height": 129
        },
        "outputId": "4e47c62d-18d3-48b6-c8f5-f46243030ca9"
      },
      "source": [
        "from tkinder import TK\r\n",
        "root = Tk[]"
      ],
      "execution_count": 1,
      "outputs": [
        {
          "output_type": "error",
          "ename": "SyntaxError",
          "evalue": "ignored",
          "traceback": [
            "\u001b[0;36m  File \u001b[0;32m\"<ipython-input-1-b15b4034e077>\"\u001b[0;36m, line \u001b[0;32m2\u001b[0m\n\u001b[0;31m    root = Tk[]\u001b[0m\n\u001b[0m              ^\u001b[0m\n\u001b[0;31mSyntaxError\u001b[0m\u001b[0;31m:\u001b[0m invalid syntax\n"
          ]
        }
      ]
    }
  ]
}